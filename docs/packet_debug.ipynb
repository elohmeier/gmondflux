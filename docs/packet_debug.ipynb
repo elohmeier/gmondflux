{
 "cells": [
  {
   "cell_type": "code",
   "execution_count": 1,
   "metadata": {},
   "outputs": [],
   "source": [
    "import subprocess\n",
    "from gmondflux.gmondflux import udp_server, recv_packet"
   ]
  },
  {
   "cell_type": "code",
   "execution_count": 2,
   "metadata": {},
   "outputs": [],
   "source": [
    "udp_server.bind((\"127.0.0.1\", 8649))\n",
    "subprocess.call([\"gmetric\", \"-c\", \"gmetric.conf\", \"-n\", \"my_metric\", \"-t\", \"string\", \"-v\", \"abcxyzöäü\"])\n",
    "\n",
    "metadata_packet = recv_packet()\n",
    "assert metadata_packet.is_metadata_packet\n",
    "\n",
    "value_packet = recv_packet()\n",
    "assert not value_packet.is_metadata_packet\n",
    "\n",
    "udp_server.close()\n",
    "\n",
    "iql = value_packet.iql()"
   ]
  },
  {
   "cell_type": "code",
   "execution_count": 3,
   "metadata": {},
   "outputs": [
    {
     "data": {
      "text/plain": [
       "{'packet_type': 128,\n",
       " 'hostname': '123.123.123.123:mywebserver.domain.com',\n",
       " 'metric_name': 'my_metric',\n",
       " 'spoof': 1,\n",
       " 'type_representation': 'string',\n",
       " 'units': '',\n",
       " 'slope': 'both',\n",
       " 'tmax': 60,\n",
       " 'dmax': 0,\n",
       " 'value': None,\n",
       " 'extra_data': {'SPOOF_HOST': '123.123.123.123:mywebserver.domain.com'}}"
      ]
     },
     "execution_count": 3,
     "metadata": {},
     "output_type": "execute_result"
    }
   ],
   "source": [
    "metadata_packet.__dict__"
   ]
  },
  {
   "cell_type": "code",
   "execution_count": 4,
   "metadata": {},
   "outputs": [
    {
     "data": {
      "text/plain": [
       "{'packet_type': 133,\n",
       " 'hostname': '123.123.123.123:mywebserver.domain.com',\n",
       " 'metric_name': 'my_metric',\n",
       " 'spoof': 1,\n",
       " 'printf': '%s',\n",
       " 'value': b'abcxyz\\xc3\\xb6\\xc3\\xa4\\xc3\\xbc',\n",
       " 'value_iql': '\"abcxyzöäü\"'}"
      ]
     },
     "execution_count": 4,
     "metadata": {},
     "output_type": "execute_result"
    }
   ],
   "source": [
    "value_packet.__dict__"
   ]
  },
  {
   "cell_type": "code",
   "execution_count": 5,
   "metadata": {},
   "outputs": [
    {
     "data": {
      "text/plain": [
       "'gmond,host=123.123.123.123:mywebserver.domain.com my_metric=\"abcxyzöäü\"\\n'"
      ]
     },
     "execution_count": 5,
     "metadata": {},
     "output_type": "execute_result"
    }
   ],
   "source": [
    "iql"
   ]
  },
  {
   "cell_type": "code",
   "execution_count": null,
   "metadata": {},
   "outputs": [],
   "source": []
  }
 ],
 "metadata": {
  "kernelspec": {
   "display_name": "Python 3",
   "language": "python",
   "name": "python3"
  },
  "language_info": {
   "codemirror_mode": {
    "name": "ipython",
    "version": 3
   },
   "file_extension": ".py",
   "mimetype": "text/x-python",
   "name": "python",
   "nbconvert_exporter": "python",
   "pygments_lexer": "ipython3",
   "version": "3.8.0"
  }
 },
 "nbformat": 4,
 "nbformat_minor": 4
}
